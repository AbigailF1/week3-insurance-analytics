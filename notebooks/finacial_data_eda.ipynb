{
 "cells": [
  {
   "cell_type": "code",
   "execution_count": null,
   "id": "7f0c2bf4",
   "metadata": {},
   "outputs": [],
   "source": [
    "import pandas as pd\n",
    "import seaborn as sns\n",
    "import matplotlib.pyplot as plt"
   ]
  },
  {
   "cell_type": "code",
   "execution_count": null,
   "id": "4a111c7c",
   "metadata": {},
   "outputs": [],
   "source": [
    "# Load dataset with proper encoding and separator\n",
    "df = pd.read_csv(\"../data/MachineLearningRating_v3.txt\", delimiter=\"|\", encoding=\"utf-8\")\n",
    "df.info()\n",
    "df.describe(include='all')\n",
    "df.isnull().sum()\n",
    "df = pd.read_csv(\n",
    "    \"../data/MachineLearningRating_v3.txt\",\n",
    "    delimiter=\"|\",\n",
    "    encoding=\"utf-8\",\n",
    "    dtype={df.columns[32]: str, df.columns[37]: str},\n",
    "    low_memory=False\n",
    ")\n"
   ]
  },
  {
   "cell_type": "code",
   "execution_count": null,
   "id": "f9174bb7",
   "metadata": {},
   "outputs": [],
   "source": []
  }
 ],
 "metadata": {
  "kernelspec": {
   "display_name": "env",
   "language": "python",
   "name": "python3"
  },
  "language_info": {
   "codemirror_mode": {
    "name": "ipython",
    "version": 3
   },
   "file_extension": ".py",
   "mimetype": "text/x-python",
   "name": "python",
   "nbconvert_exporter": "python",
   "pygments_lexer": "ipython3",
   "version": "3.12.2"
  }
 },
 "nbformat": 4,
 "nbformat_minor": 5
}
